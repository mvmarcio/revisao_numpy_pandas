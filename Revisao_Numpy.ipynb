{
  "nbformat": 4,
  "nbformat_minor": 0,
  "metadata": {
    "colab": {
      "name": "Revisao_Numpy.ipynb",
      "provenance": [],
      "authorship_tag": "ABX9TyNkW6F0DO6wH47M2iutgUR1",
      "include_colab_link": true
    },
    "kernelspec": {
      "name": "python3",
      "display_name": "Python 3"
    },
    "language_info": {
      "name": "python"
    }
  },
  "cells": [
    {
      "cell_type": "markdown",
      "metadata": {
        "id": "view-in-github",
        "colab_type": "text"
      },
      "source": [
        "<a href=\"https://colab.research.google.com/github/mvmarcio/revisao_numpy_pandas/blob/main/Revisao_Numpy.ipynb\" target=\"_parent\"><img src=\"https://colab.research.google.com/assets/colab-badge.svg\" alt=\"Open In Colab\"/></a>"
      ]
    },
    {
      "cell_type": "markdown",
      "source": [
        "# **Revisão Básica da Biblioteca Numpy**\n",
        "\n",
        "O objetivo desse *script* é fazer uma breve revisão dos conceitos iniciais da biblioteca Numpy. "
      ],
      "metadata": {
        "id": "y0qbOv-SHHZc"
      }
    },
    {
      "cell_type": "markdown",
      "source": [
        "## 1. Revisão da Biblioteca Numpy\n",
        "\n",
        "Meu objetivo aqui é fazer uma breve revisão dos conceitos básicos de álgebra linear como criação de vetores e matrizes, multiplicação de matrizes por escalares, determinantes e multiplicação de matrizes. "
      ],
      "metadata": {
        "id": "sVFz9kvkIJiq"
      }
    },
    {
      "cell_type": "code",
      "source": [
        "# Vamos importar a biblioteca do numpy\n",
        "\n",
        "import numpy as np"
      ],
      "metadata": {
        "id": "2XDDNGLtIQ_S"
      },
      "execution_count": 1,
      "outputs": []
    },
    {
      "cell_type": "code",
      "source": [
        "# Vamos criar nossos espaços vetoriais, também conhecidos como arrays por meio da função np.array():\n",
        "\n",
        "a0 = np.array(1) # espaço vetorial de dimensão 1 (Interpretado com zero pela linguagem)\n",
        "a1 = np.array([1, 2]) # espaço vetorial de dimensão 2 (Intepregado como 1 pela linguagem)\n",
        "a2 = np.array([ [1, 2], [2, 4] ]) # matriz 2x2.\n",
        "a3 = np.array([ [ [1, 2], [3, 4] ], [ [5, 6], [7, 8] ] ]) # matriz 4x2\n",
        "a4 = np.array([ [ [1, 2, 3], [4, 5, 6], [7, 8, 9] ] ] ) # matriz 3x3\n",
        "a5 = np.array([ [ [5, 3, 9], [0, 1, 4], [6, 1, -2] ] ]) # matriz 3x3\n",
        "\n",
        "# Vamos visualizar nossos espaços vetoriais:\n",
        "print(a0)\n",
        "print(a1)\n",
        "print(a2)\n",
        "print(a3)\n",
        "print(a4)\n",
        "print(a5)"
      ],
      "metadata": {
        "colab": {
          "base_uri": "https://localhost:8080/"
        },
        "id": "E7l7igggJEMK",
        "outputId": "9c880fba-cda6-4d58-da43-a685f8a0417a"
      },
      "execution_count": 2,
      "outputs": [
        {
          "output_type": "stream",
          "name": "stdout",
          "text": [
            "1\n",
            "[1 2]\n",
            "[[1 2]\n",
            " [2 4]]\n",
            "[[[1 2]\n",
            "  [3 4]]\n",
            "\n",
            " [[5 6]\n",
            "  [7 8]]]\n",
            "[[[1 2 3]\n",
            "  [4 5 6]\n",
            "  [7 8 9]]]\n",
            "[[[ 5  3  9]\n",
            "  [ 0  1  4]\n",
            "  [ 6  1 -2]]]\n"
          ]
        }
      ]
    },
    {
      "cell_type": "markdown",
      "source": [
        "Vamos verificar as dimensões do nossos espaços vetoriais por meio da função *ndim*."
      ],
      "metadata": {
        "id": "2cyXsZPFMQvS"
      }
    },
    {
      "cell_type": "code",
      "source": [
        "print('A dimensão de a0:', a0.ndim)\n",
        "print('A dimensão de a1:', a1.ndim)\n",
        "print('A dimensão de a2:', a2.ndim)\n",
        "print('A dimensão de a3:', a3.ndim)\n",
        "print('A dimensão de a3:', a4.ndim)"
      ],
      "metadata": {
        "colab": {
          "base_uri": "https://localhost:8080/"
        },
        "id": "LVkurP4hMeO4",
        "outputId": "83433069-3433-446e-cf64-1f1e08f09540"
      },
      "execution_count": 6,
      "outputs": [
        {
          "output_type": "stream",
          "name": "stdout",
          "text": [
            "A dimensão de a0: 0\n",
            "A dimensão de a1: 1\n",
            "A dimensão de a2: 2\n",
            "A dimensão de a3: 3\n",
            "A dimensão de a3: 3\n"
          ]
        }
      ]
    },
    {
      "cell_type": "markdown",
      "source": [
        "Agora vamos realizar operações aritméticas com os vetores e matrizes: adição e subtração por escalar, multiplicação e divisão por escalar, multiplicação entre espaços vetoriais e determinantes."
      ],
      "metadata": {
        "id": "ytv2ZnV_Nb6C"
      }
    },
    {
      "cell_type": "code",
      "source": [
        "matriz1 = a4 # a matriz1 recebe o objeto a4\n",
        "matriz2 = a5 # a matriz2 recete o objeto a5\n",
        "print(matriz1)\n",
        "print(matriz2)"
      ],
      "metadata": {
        "colab": {
          "base_uri": "https://localhost:8080/"
        },
        "id": "wrsgbFB4N6OA",
        "outputId": "9cf90768-31de-41e0-e1ea-201466c194f9"
      },
      "execution_count": 3,
      "outputs": [
        {
          "output_type": "stream",
          "name": "stdout",
          "text": [
            "[[[1 2 3]\n",
            "  [4 5 6]\n",
            "  [7 8 9]]]\n",
            "[[[ 5  3  9]\n",
            "  [ 0  1  4]\n",
            "  [ 6  1 -2]]]\n"
          ]
        }
      ]
    },
    {
      "cell_type": "code",
      "source": [
        "print(matriz1 + matriz2) # soma cada elemento da linha (i) e coluna (j)\n",
        "print(matriz1 - matriz2) # subtrai cada elemento da linha (i) e coluna (j)\n",
        "print(matriz1 * 2) # multiplica a matriz1 pelo escalar 2\n",
        "print(matriz2 / 2) # divide a matriz2 pelo escalar 2\n",
        "print(matriz2 ** 2) # faz a potência de cada elemento da matriz2 pelo escalar 2\n",
        "print(matriz1 ** 0.5) # retira a raiz quadrada de cada elemento da matriz1"
      ],
      "metadata": {
        "colab": {
          "base_uri": "https://localhost:8080/"
        },
        "id": "uN9Fz13hOPap",
        "outputId": "74984b3c-0bdd-41c4-d437-0f719a5d18c3"
      },
      "execution_count": 15,
      "outputs": [
        {
          "output_type": "stream",
          "name": "stdout",
          "text": [
            "[[[ 6  5 12]\n",
            "  [ 4  6 10]\n",
            "  [13  9  7]]]\n",
            "[[[-4 -1 -6]\n",
            "  [ 4  4  2]\n",
            "  [ 1  7 11]]]\n",
            "[[[ 2  4  6]\n",
            "  [ 8 10 12]\n",
            "  [14 16 18]]]\n",
            "[[[ 2.5  1.5  4.5]\n",
            "  [ 0.   0.5  2. ]\n",
            "  [ 3.   0.5 -1. ]]]\n",
            "[[[25  9 81]\n",
            "  [ 0  1 16]\n",
            "  [36  1  4]]]\n",
            "[[[1.         1.41421356 1.73205081]\n",
            "  [2.         2.23606798 2.44948974]\n",
            "  [2.64575131 2.82842712 3.        ]]]\n"
          ]
        }
      ]
    },
    {
      "cell_type": "markdown",
      "source": [
        "Agora vamos fazer o produto de matrizes. Lembrando que para fazer tal operação, é necessário que o número de colunas da primeira matriz seja igual ao número de linhas da segunda. Utilizamos a função *np.dot()* do Numpy."
      ],
      "metadata": {
        "id": "Rm1m23AHQlLy"
      }
    },
    {
      "cell_type": "code",
      "source": [
        "# Calculando o produto da matriz1 pela matriz2\n",
        "\n",
        "produto_m = np.dot(matriz1, matriz2)\n",
        "produto_m"
      ],
      "metadata": {
        "colab": {
          "base_uri": "https://localhost:8080/"
        },
        "id": "xwxX2fjfRePL",
        "outputId": "ad42e595-6456-498f-c08f-046f5c2fe951"
      },
      "execution_count": 18,
      "outputs": [
        {
          "output_type": "execute_result",
          "data": {
            "text/plain": [
              "array([[[[23,  8, 11]],\n",
              "\n",
              "        [[56, 23, 44]],\n",
              "\n",
              "        [[89, 38, 77]]]])"
            ]
          },
          "metadata": {},
          "execution_count": 18
        }
      ]
    },
    {
      "cell_type": "markdown",
      "source": [
        "Agora vamos calcular o **determinante** de matrizes. Para tal é importante lembrar que só podemos calcular determinantes de matrizes quadradas, isto é, quando o número de linhas é igual ao número de colunas. Utilizamos a função *np.linalg.det()* do Numpy."
      ],
      "metadata": {
        "id": "ivF29egASOk5"
      }
    },
    {
      "cell_type": "code",
      "source": [
        "# Vamos calcular os determinantes das matrizes matriz1 e matriz2\n",
        "\n",
        "from numpy.linalg import det\n",
        "\n",
        "det1 = det(matriz1) # calcula o determinante da matriz1\n",
        "det2 = det(matriz2) # calcula o determinte da matriz2\n",
        "\n",
        "print(det1)\n",
        "print(det2)"
      ],
      "metadata": {
        "colab": {
          "base_uri": "https://localhost:8080/"
        },
        "id": "F9trV5HRTE8q",
        "outputId": "88f1e9d2-8b1b-4645-be50-b8a272189847"
      },
      "execution_count": 21,
      "outputs": [
        {
          "output_type": "stream",
          "name": "stdout",
          "text": [
            "[0.]\n",
            "[-12.]\n"
          ]
        }
      ]
    },
    {
      "cell_type": "markdown",
      "source": [
        "Agora vamos calcular a **matriz inversa**. O produto da matriz pela sua matriz inversa gera a matriz identidade. Outra informação importante é que apenas matrizes quadradas podem ser invertidas e o seu determinante não pode ser zero. Para fazer tal cálculo utilizamos a função *numpy.linalg.inv()* do Numpy. "
      ],
      "metadata": {
        "id": "nvRyk5kTwVKq"
      }
    },
    {
      "cell_type": "code",
      "source": [
        "# Vamos calcular as inversas das matrizes matriz1 e matriz2:\n",
        "\n",
        "from numpy.linalg import inv\n",
        "\n",
        "# inversa1 = inv(matriz1) # inversa da matriz1\n",
        "inversa2 = inv(matriz2) # inversa da matriz2\n",
        "\n",
        "# print(inversa1) # o seu determinante foi zero e, portante, não é inversível.\n",
        "print(inversa2) "
      ],
      "metadata": {
        "colab": {
          "base_uri": "https://localhost:8080/"
        },
        "id": "J0RhwTo6xJiC",
        "outputId": "ef0fd3ff-44d5-42f9-91e9-e369cacc2561"
      },
      "execution_count": 5,
      "outputs": [
        {
          "output_type": "stream",
          "name": "stdout",
          "text": [
            "[[[ 0.5        -1.25       -0.25      ]\n",
            "  [-2.          5.33333333  1.66666667]\n",
            "  [ 0.5        -1.08333333 -0.41666667]]]\n"
          ]
        }
      ]
    },
    {
      "cell_type": "code",
      "source": [
        "# Multiplicação da matriz2 por sua inversa para gerar a matriz identidade\n",
        "\n",
        "identidade2 = np.dot(matriz2, inversa2).round(0)\n",
        "identidade2"
      ],
      "metadata": {
        "colab": {
          "base_uri": "https://localhost:8080/"
        },
        "id": "HcdNpP3axwLt",
        "outputId": "751fd7c5-f6f2-4bc8-8731-b85d12ec1ec5"
      },
      "execution_count": 8,
      "outputs": [
        {
          "output_type": "execute_result",
          "data": {
            "text/plain": [
              "array([[[[ 1., -0., -0.]],\n",
              "\n",
              "        [[ 0.,  1.,  0.]],\n",
              "\n",
              "        [[ 0., -0.,  1.]]]])"
            ]
          },
          "metadata": {},
          "execution_count": 8
        }
      ]
    },
    {
      "cell_type": "markdown",
      "source": [
        "Vamos criar uma matriz 3x2 e mudar a dimensão para 2x3 por meio da funçaõ *reshape* do Numpy. "
      ],
      "metadata": {
        "id": "WGb9J9n2yy2Z"
      }
    },
    {
      "cell_type": "code",
      "source": [
        "# Criando a matriz 3x2:\n",
        "\n",
        "matriz3 = np.array([ [4, 0], [5,2], [-1, 0.5] ])\n",
        "matriz3"
      ],
      "metadata": {
        "colab": {
          "base_uri": "https://localhost:8080/"
        },
        "id": "2fmnk59izkgo",
        "outputId": "5ad50509-750a-4da7-9bcb-5a1980e33aea"
      },
      "execution_count": 10,
      "outputs": [
        {
          "output_type": "execute_result",
          "data": {
            "text/plain": [
              "array([[ 4. ,  0. ],\n",
              "       [ 5. ,  2. ],\n",
              "       [-1. ,  0.5]])"
            ]
          },
          "metadata": {},
          "execution_count": 10
        }
      ]
    },
    {
      "cell_type": "code",
      "source": [
        "# Mudando a dimensão da matriz para 2x3:\n",
        "\n",
        "matriz4 = matriz3.reshape(2, 3)\n",
        "matriz4 # matriz 2x3"
      ],
      "metadata": {
        "colab": {
          "base_uri": "https://localhost:8080/"
        },
        "id": "rKF7SRSY0Ahz",
        "outputId": "f4521483-cf67-4718-d9e8-81049a66b71e"
      },
      "execution_count": 12,
      "outputs": [
        {
          "output_type": "execute_result",
          "data": {
            "text/plain": [
              "array([[ 4. ,  0. ,  5. ],\n",
              "       [ 2. , -1. ,  0.5]])"
            ]
          },
          "metadata": {},
          "execution_count": 12
        }
      ]
    },
    {
      "cell_type": "markdown",
      "source": [
        "Podemos gerar valores aleatórios com o Numpy por meio das distribuições de probabilidade, como a Normal, Poisson, Gama, Binomial, Uniforme Discreta, Uniforme Contínua, etc. Vamos simular a Normal, Uniforme Contínua e Poisson."
      ],
      "metadata": {
        "id": "wxo7oaQs1CPG"
      }
    },
    {
      "cell_type": "markdown",
      "source": [
        "Normal"
      ],
      "metadata": {
        "id": "J3wiNLuY13fA"
      }
    },
    {
      "cell_type": "code",
      "source": [
        "# Vamos criar uma normal com média 2250 e desvio padrão 36 com n = 20. O objetivo é simular salários\n",
        "\n",
        "normal1 = np.random.normal(loc = 1200, scale = 36, size = 20).round(2)\n",
        "normal1"
      ],
      "metadata": {
        "colab": {
          "base_uri": "https://localhost:8080/"
        },
        "id": "7iRHNvBb163V",
        "outputId": "8bdf189d-ee4b-49b7-e239-df169d8db793"
      },
      "execution_count": 15,
      "outputs": [
        {
          "output_type": "execute_result",
          "data": {
            "text/plain": [
              "array([1211.96, 1208.71, 1220.24, 1254.38, 1181.45, 1232.15, 1178.54,\n",
              "       1254.76, 1202.69, 1187.22, 1164.18, 1189.21, 1190.41, 1196.72,\n",
              "       1241.78, 1149.76, 1158.63, 1260.13, 1226.78, 1229.86])"
            ]
          },
          "metadata": {},
          "execution_count": 15
        }
      ]
    },
    {
      "cell_type": "code",
      "source": [
        "# Vamos criar uma distribuição Poisson com lambda = 2, para emular número de filhos por casal\n",
        "\n",
        "poisson1 = np.random.poisson(lam = 2, size = 20)\n",
        "poisson1.mean"
      ],
      "metadata": {
        "colab": {
          "base_uri": "https://localhost:8080/"
        },
        "id": "IBjBtKni239s",
        "outputId": "8c3182e9-7969-4145-ed0b-0e2c8e8a4680"
      },
      "execution_count": 17,
      "outputs": [
        {
          "output_type": "execute_result",
          "data": {
            "text/plain": [
              "1.7"
            ]
          },
          "metadata": {},
          "execution_count": 17
        }
      ]
    },
    {
      "cell_type": "code",
      "source": [
        "# Vamos criar uma distribuição uniforme discreta, com valores de 0 a 60 para emular as dezenas da mega sena\n",
        "\n",
        "uniforme1 = np.random.uniform(low = 0, high = 60, size = 61).round(0)\n",
        "uniforme1"
      ],
      "metadata": {
        "colab": {
          "base_uri": "https://localhost:8080/"
        },
        "id": "Jtls2bPD3W85",
        "outputId": "877cbc81-d055-48f1-a7e1-14509e5bf38b"
      },
      "execution_count": 20,
      "outputs": [
        {
          "output_type": "execute_result",
          "data": {
            "text/plain": [
              "array([10., 54., 51., 11., 50., 57., 59., 45.,  7., 27., 58., 59., 53.,\n",
              "       45.,  7., 16., 26., 48., 48., 12.,  3.,  4., 19., 33., 10., 49.,\n",
              "        4., 14., 28., 55.,  0., 14.,  8.,  1., 12., 52., 40., 20., 30.,\n",
              "        1., 42.,  4., 31., 21.,  1., 12.,  4., 28., 23., 35., 15., 59.,\n",
              "       34.,  2., 42., 35., 30., 29.,  7., 34., 43.])"
            ]
          },
          "metadata": {},
          "execution_count": 20
        }
      ]
    },
    {
      "cell_type": "markdown",
      "source": [
        "Agora vamos simular um modelo de regressão linear e depois o seu ajuste quadrático. "
      ],
      "metadata": {
        "id": "lsLn5H3d4CNC"
      }
    },
    {
      "cell_type": "code",
      "source": [
        "import matplotlib.pyplot as plt\n",
        "\n",
        "x = np.random.uniform(low = 1, high = 20, size = 1000)\n",
        "y = x + 1 + np.random.normal(loc = 0, scale = 1, size = 1000)\n",
        "\n",
        "b1, b0 = np.polyfit(x, y, deg = 1)\n",
        "\n",
        "plt.plot(x, y, '.', alpha = 0.4) # scatter plot dos pontos\n",
        "plt.plot(x, b0 + b1*x, color = 'red', alpha = 0.5) # reta de regressão\n",
        "plt.title('Regressão Linear')\n",
        "plt.show() # melhora a visualização\n",
        "\n",
        "print(b1, b0)"
      ],
      "metadata": {
        "colab": {
          "base_uri": "https://localhost:8080/",
          "height": 298
        },
        "id": "2EbpLghO5Bop",
        "outputId": "94bc904b-f266-4ed5-ad1c-2d56cc1ad9f5"
      },
      "execution_count": 26,
      "outputs": [
        {
          "output_type": "display_data",
          "data": {
            "text/plain": [
              "<Figure size 432x288 with 1 Axes>"
            ],
            "image/png": "[encoded data removed]"
          },
          "metadata": {
            "needs_background": "light"
          }
        },
        {
          "output_type": "stream",
          "name": "stdout",
          "text": [
            "1.0009381827272712 0.9791486595620812\n"
          ]
        }
      ]
    },
    {
      "cell_type": "markdown",
      "source": [
        "## **Simulação de um Álbum Aleatório**"
      ],
      "metadata": {
        "id": "5YnySMdz8SVY"
      }
    },
    {
      "cell_type": "markdown",
      "source": [
        "Com base no curso da Flai do Professor Ricardo, será feita uma simulação de um album de figurinhas aleatório com os seguintes parâmetros:\n",
        "\n",
        "1. Total de cromos: **800**\n",
        "\n",
        "2. Preço do livro ilustrado capa brochura: **R$ 6,90**\n",
        "\n",
        "3. Envelope com 5 cromos: **R$ 4,50**\n",
        "\n",
        "### SUPOSIÇÕES\n",
        "1. Todas as figurinhas tem igual probabilidade de serem sorteradas\n",
        "2. Um pacotinho é comprado por vez\n",
        "\n",
        "### ALGORITMO\n",
        "1. Comprar um pacotinho de figurinhas (4 figurinhas cada, que podem ser repetidas);\n",
        "2. Colar no álbum e verificar se o álbum está completo;\n",
        "3. Caso esteja incompleto, comprar mais um pacotinho, caso contrário, terminar."
      ],
      "metadata": {
        "id": "N7K5lv1_7ioi"
      }
    },
    {
      "cell_type": "code",
      "source": [
        "# Vamos montar os parâmetros iniciais\n",
        "\n",
        "n_album = 800\n",
        "preco_pacote = 4.50\n",
        "preco_album = 6.90\n",
        "simulacoes = 10000"
      ],
      "metadata": {
        "id": "ACd-KES38O6J"
      },
      "execution_count": 14,
      "outputs": []
    },
    {
      "cell_type": "code",
      "source": [
        "import numpy as np\n",
        "\n",
        "album = np.zeros(n_album) # representação do album\n",
        "\n",
        "pacote = np.random.choice(range(n_album), 4) # representação dos pacotes\n",
        "\n",
        "# Vamos preencher o nosso algum com as figurinhas\n",
        "for i in pacote:\n",
        "  album[i] += 1"
      ],
      "metadata": {
        "id": "CeNSmY3P82c0"
      },
      "execution_count": null,
      "outputs": []
    },
    {
      "cell_type": "code",
      "source": [
        "# Vamos simular a compra de figurinhas até completar o álbum fictício:\n",
        "\n",
        "def simula_album():\n",
        "  album = np.zeros(n_album)\n",
        "  pacotes = 0\n",
        "  while not np.all(album > 0):\n",
        "    pacote = np.random.choice(range(n_album), 4)\n",
        "    pacotes += 1\n",
        "\n",
        "    for i in pacote:\n",
        "      album[i] += 1\n",
        "\n",
        "  valor_gasto = preco_album + preco_pacote * pacotes\n",
        "\n",
        "  return valor_gasto, pacotes"
      ],
      "metadata": {
        "id": "f9JAEFGhQvSJ"
      },
      "execution_count": 8,
      "outputs": []
    },
    {
      "cell_type": "code",
      "source": [
        "# Agora vamos visualizar a primeira simulação com a função:\n",
        "\n",
        "simula_album()"
      ],
      "metadata": {
        "colab": {
          "base_uri": "https://localhost:8080/"
        },
        "id": "-tJSp39vSVBR",
        "outputId": "d2f93b35-a5ae-4e2b-9d10-c65f6fbd2d9c"
      },
      "execution_count": 10,
      "outputs": [
        {
          "output_type": "execute_result",
          "data": {
            "text/plain": [
              "(6036.9, 1340)"
            ]
          },
          "metadata": {},
          "execution_count": 10
        }
      ]
    },
    {
      "cell_type": "code",
      "source": [
        "# Vamos guardar as simulações como objeto:\n",
        "\n",
        "sim = simula_album()\n",
        "sim"
      ],
      "metadata": {
        "colab": {
          "base_uri": "https://localhost:8080/"
        },
        "id": "2QPkgFQsm0ex",
        "outputId": "a76e0e08-7550-4b3f-c174-30d241897659"
      },
      "execution_count": 31,
      "outputs": [
        {
          "output_type": "execute_result",
          "data": {
            "text/plain": [
              "(5172.9, 1148)"
            ]
          },
          "metadata": {},
          "execution_count": 31
        }
      ]
    },
    {
      "cell_type": "code",
      "source": [
        "# Agora vamos fazer 10 mil simulações para responder algumas questões:\n",
        "\n",
        "valores = [] # lista vazia que será preenchida com o ciclo for\n",
        "for i in range(simulacoes):\n",
        "  valores.append(simula_album()[0])\n",
        "  if (i+1) % 1000 == 0:\n",
        "    print('Simulação: ', i+1, '/', simulacoes)"
      ],
      "metadata": {
        "colab": {
          "base_uri": "https://localhost:8080/"
        },
        "id": "9fsnII2pTFJO",
        "outputId": "b7716b2f-80da-4808-87b9-90636e338973"
      },
      "execution_count": 15,
      "outputs": [
        {
          "output_type": "stream",
          "name": "stdout",
          "text": [
            "Simulação:  1000 / 10000\n",
            "Simulação:  2000 / 10000\n",
            "Simulação:  3000 / 10000\n",
            "Simulação:  4000 / 10000\n",
            "Simulação:  5000 / 10000\n",
            "Simulação:  6000 / 10000\n",
            "Simulação:  7000 / 10000\n",
            "Simulação:  8000 / 10000\n",
            "Simulação:  9000 / 10000\n",
            "Simulação:  10000 / 10000\n"
          ]
        }
      ]
    },
    {
      "cell_type": "markdown",
      "source": [
        "Vamos responder inicialmente as seguintes perguntas:\n",
        "\n",
        "1. Qual o valor médio investido para completar o álbum nessas condições?\n",
        "2. Qual o valor mediano investido?\n",
        "3. Qual a variabilidade do valor investido?\n",
        "4. Quantos pacotes são necessários comprar, em média, para completar o álbum?\n",
        "6. Qual é a distribuição empírica do valor investido para completar o álbum?\n"
      ],
      "metadata": {
        "id": "tAIGLwOJTi2B"
      }
    },
    {
      "cell_type": "code",
      "source": [
        "# Valor médio e valor mediano:\n",
        "\n",
        "print('O valor médio gasto foi de R$:', round(np.mean(valores), 2)) # média\n",
        "print('50% dos gastos foram de até R$:', np.median(valores)) # mediana"
      ],
      "metadata": {
        "colab": {
          "base_uri": "https://localhost:8080/"
        },
        "id": "yEk_KhiJcPMx",
        "outputId": "44842f89-e098-4ae3-a4e2-cd3082f55e38"
      },
      "execution_count": 17,
      "outputs": [
        {
          "output_type": "stream",
          "name": "stdout",
          "text": [
            "O valor médio gasto foi de R$: 6542.91\n",
            "50% dos gastos foram de até R$: 6369.9\n"
          ]
        }
      ]
    },
    {
      "cell_type": "markdown",
      "source": [
        "A diferença entre a média e mediana foi baixa, indicando que a distribuição empírica dos gastos se aproximou de uma Normal."
      ],
      "metadata": {
        "id": "8P09UcbLdCTo"
      }
    },
    {
      "cell_type": "code",
      "source": [
        "# A variabilidade do valor gasto por meio do desvio padrão:\n",
        "\n",
        "print('A variabilidae do valor gasto foi de R$', round(np.std(valores), 2)) # desvio padrão"
      ],
      "metadata": {
        "colab": {
          "base_uri": "https://localhost:8080/"
        },
        "id": "yCBgmr5zdOkh",
        "outputId": "7ad5db3a-9cd3-436d-f683-193f196779dc"
      },
      "execution_count": 19,
      "outputs": [
        {
          "output_type": "stream",
          "name": "stdout",
          "text": [
            "A variabilidae do valor gasto foi de R$ 1152.55\n"
          ]
        }
      ]
    },
    {
      "cell_type": "markdown",
      "source": [
        "O desvio padrão, que indica a variabilidade nos gastos para completar o álbum, foi de 1.152,55 reais, próxima do valor de 1.000,00 reais."
      ],
      "metadata": {
        "id": "vomgH6HYd_eb"
      }
    },
    {
      "cell_type": "code",
      "source": [
        "# Valor médio de pacotes comprados para completar o álbum\n",
        "\n",
        "print('O número médio de pacotes para se completar o álbum foi de:', round((np.mean(valores) - preco_album)/preco_pacote, 0))"
      ],
      "metadata": {
        "colab": {
          "base_uri": "https://localhost:8080/"
        },
        "id": "xUuPFsTOeM9A",
        "outputId": "bd3073b4-d069-4279-a596-c1e4bf89bcde"
      },
      "execution_count": 20,
      "outputs": [
        {
          "output_type": "stream",
          "name": "stdout",
          "text": [
            "O número médio de pacotes para se completar o álbum foi de: 1452.0\n"
          ]
        }
      ]
    },
    {
      "cell_type": "code",
      "source": [
        "# Vamos trabalhar com a distribuição empírica dos valores gastos:\n",
        "\n",
        "import matplotlib.pyplot as plt\n",
        "import seaborn as sns\n",
        "\n",
        "plt.hist(valores, bins = 100, density = True, color = 'grey', edgecolor = 'black')\n",
        "plt.title('Distribuição Empírica dos Valores Gastos para Completar o Álbum Fictício')\n",
        "plt.show()"
      ],
      "metadata": {
        "colab": {
          "base_uri": "https://localhost:8080/",
          "height": 283
        },
        "id": "9wZ95aDhgEKg",
        "outputId": "7719b240-c43b-4985-f66f-d7775bcfe373"
      },
      "execution_count": 29,
      "outputs": [
        {
          "output_type": "display_data",
          "data": {
            "text/plain": [
              "<Figure size 432x288 with 1 Axes>"
            ],
            "image/png": "[encoded data removed]"
          },
          "metadata": {
            "needs_background": "light"
          }
        }
      ]
    },
    {
      "cell_type": "code",
      "source": [
        "# Vamos realizar testes de normalidade para verificar a distribuição empírica: \n",
        "\n",
        "# Teste de Shapiro-Wilk\n",
        "\n",
        "from scipy.stats import shapiro\n",
        "\n",
        "sw_teste = shapiro(valores)\n",
        "\n",
        "print(sw_teste)"
      ],
      "metadata": {
        "colab": {
          "base_uri": "https://localhost:8080/"
        },
        "id": "EyiW13R3iobR",
        "outputId": "8e07b59c-11d0-41d7-bd5d-bb645df1ead1"
      },
      "execution_count": 28,
      "outputs": [
        {
          "output_type": "stream",
          "name": "stdout",
          "text": [
            "(0.9436306953430176, 0.0)\n"
          ]
        },
        {
          "output_type": "stream",
          "name": "stderr",
          "text": [
            "/usr/local/lib/python3.7/dist-packages/scipy/stats/morestats.py:1676: UserWarning: p-value may not be accurate for N > 5000.\n",
            "  warnings.warn(\"p-value may not be accurate for N > 5000.\")\n"
          ]
        }
      ]
    },
    {
      "cell_type": "markdown",
      "source": [
        "A hipótese nula de normalidade na distribuição testada por meio do teste de Shapiro-Wilk não foi rejeitada. Portanto, não se rejeita a hipótese nula de normalidade na distribuição empírica. "
      ],
      "metadata": {
        "id": "L-iXnD5BjmBp"
      }
    },
    {
      "cell_type": "markdown",
      "source": [
        "### **Vamos tentar responder estas outras perguntas**\n",
        "\n",
        "6. Qual é um intervalo de confiança de 95% para o gasto ao se completar o álbum?\n",
        "7. Qual o valor médio gasto caso se esteja completando o álbum com mais um amigo?\n",
        "8. Qual o valor médio gasto caso se esteja completando o álbum com mais dois amigos?\n",
        "9. Qual o valor médio gasto caso se esteja completando o álbum com mais quatro amigos?"
      ],
      "metadata": {
        "id": "x4EZRp6Pj0U2"
      }
    },
    {
      "cell_type": "code",
      "source": [
        "# Vamos calcular o intervalo de confiança:\n",
        "\n",
        "ic = np.quantile(simula_album(), [.025, 0.975])\n",
        "print('O intervalo de confiança de 95% para o gasto total foi de [{:.2f}, {:.2f}]'.format(ic[0], ic[1]))"
      ],
      "metadata": {
        "colab": {
          "base_uri": "https://localhost:8080/"
        },
        "id": "qT0U3z2Cn7oi",
        "outputId": "2805412f-9422-4107-c855-232a5e1a9217"
      },
      "execution_count": 55,
      "outputs": [
        {
          "output_type": "stream",
          "name": "stdout",
          "text": [
            "O intervalo de confiança de 95% para o gasto total foi de [1296.47, 5266.43]\n"
          ]
        }
      ]
    },
    {
      "cell_type": "markdown",
      "source": [
        "Agora vamos resover as perguntas 7, 8 e 9."
      ],
      "metadata": {
        "id": "ubOfpGWcFa-9"
      }
    },
    {
      "cell_type": "code",
      "source": [
        "# Primeiro vamos comprar figurinhas até completar o álbum\n",
        "\n",
        "def simula_album(qtde_albuns = 1):\n",
        "  album = np.zeros(n_album)\n",
        "  pacotes = 0\n",
        "  while not np.all(album >= qtde_albuns):\n",
        "    pacotinho = np.random.choice(range(n_album), 4)\n",
        "    pacotes += 1\n",
        "\n",
        "    for i in pacotinho:\n",
        "      album[i] += 1\n",
        "\n",
        "  valor_gasto = qtde_albuns * preco_album + preco_pacote * pacotes\n",
        "  valor_gasto_por_album = valor_gasto/qtde_albuns\n",
        "\n",
        "  return valor_gasto, pacotes, valor_gasto_por_album\n",
        "\n",
        "simula_album(2)"
      ],
      "metadata": {
        "colab": {
          "base_uri": "https://localhost:8080/"
        },
        "id": "uyB9FL9OHcpq",
        "outputId": "d65b5797-55de-4457-c6b0-e97fc8d9824c"
      },
      "execution_count": 56,
      "outputs": [
        {
          "output_type": "execute_result",
          "data": {
            "text/plain": [
              "(8446.8, 1874, 4223.4)"
            ]
          },
          "metadata": {},
          "execution_count": 56
        }
      ]
    },
    {
      "cell_type": "code",
      "source": [
        "def simulacao(qtde_albuns, simulacoes = 1000, silencio = False):\n",
        "  valores = []\n",
        "  for i in range(simulacoes):\n",
        "    valores.append(simula_album(qtde_albuns)[2])\n",
        "    if not silencio:\n",
        "      if (i+1) % 100 == 0:\n",
        "        print('Simulações: ', i+1, simulacoes)\n",
        "  return valores\n",
        "\n",
        "sim = simulacao(qtde_albuns = 2, simulacoes = 1000)"
      ],
      "metadata": {
        "colab": {
          "base_uri": "https://localhost:8080/"
        },
        "id": "SI03k4lCJYyt",
        "outputId": "7d940109-f800-40ae-83eb-6ccc50ac9c11"
      },
      "execution_count": 57,
      "outputs": [
        {
          "output_type": "stream",
          "name": "stdout",
          "text": [
            "Simulações:  100 1000\n",
            "Simulações:  200 1000\n",
            "Simulações:  300 1000\n",
            "Simulações:  400 1000\n",
            "Simulações:  500 1000\n",
            "Simulações:  600 1000\n",
            "Simulações:  700 1000\n",
            "Simulações:  800 1000\n",
            "Simulações:  900 1000\n",
            "Simulações:  1000 1000\n"
          ]
        }
      ]
    },
    {
      "cell_type": "code",
      "source": [
        "# Questões 7, 8 e 9:\n",
        "\n",
        "um_amigo = simulacao(2, 100, silencio = True)\n",
        "media_dois_amigos = np.array(um_amigo).mean()\n",
        "\n",
        "dois_amigos = simulacao(3, 100, silencio = True)\n",
        "media_tres_amigos = np.array(dois_amigos).mean()\n",
        "\n",
        "quatro_amigos = simulacao(5, 100, silencio = True)\n",
        "media_cinco_amigos = np.array(quatro_amigos).mean()\n",
        "\n",
        "print('A média do custo entre dois amigos foi de {}.'.format(round(media_dois_amigos, 2)))\n",
        "print('A média do custo entre três amigos foi de {}.'.format(round(media_tres_amigos, 2)))\n",
        "print('A media do custo entre quatro amigos foi de {}.'.format(round(media_cinco_amigos, 2)))"
      ],
      "metadata": {
        "colab": {
          "base_uri": "https://localhost:8080/"
        },
        "id": "klYzwidcLCr0",
        "outputId": "29bd5316-38f2-49b2-d4cd-e20d75939fd9"
      },
      "execution_count": 61,
      "outputs": [
        {
          "output_type": "stream",
          "name": "stdout",
          "text": [
            "A média do custo entre dois amigos foi de 4336.26.\n",
            "A média do custo entre três amigos foi de 3571.41.\n",
            "A media do custo entre quatro amigos foi de 2759.45.\n"
          ]
        }
      ]
    },
    {
      "cell_type": "markdown",
      "source": [
        "Para finalizar esta pequena revisão, vamos trabalhar com associação de variáveis. Primeiramente vamos trabalhar com a análise de covariância e posteriormente com a correlação linear de Pearson. A primeira faz uma associação entre duas variáveis, mas sofre problemas por conta das unidades de medidas das variáveis. Caso as unidades de medida mudem, o valor da covariância também muda. A correlação linear de Pearson varia nos intervalos fechados de [0, 1] e [-1, 0] e não sofre alteração nos valores por conta das unidades de medida. \n",
        "\n",
        "\n",
        "Valores próximos de 1 indicam uma associação linear positiva forte entre as variáveis, próximos de -1 uma associação negativa. Valores próximos de zero indicam uma fraca associação linear fraca. Lembrando que correlação não implica em causalidade. Os fundamentos matemáticos e estatísticos destas medidas serão abordadas de maneira mais sistemática em outros *scripts*."
      ],
      "metadata": {
        "id": "00r4xYheNpwc"
      }
    },
    {
      "cell_type": "code",
      "source": [
        "# Vamos montar nossas variáveis para a covariância e correlação\n",
        "y = [1, 2, 5, 6, 5]\n",
        "x = [7, 0.5, 12, 18, 9]\n",
        "\n",
        "print('O vetor y', y)\n",
        "print('O vetor x', x)"
      ],
      "metadata": {
        "colab": {
          "base_uri": "https://localhost:8080/"
        },
        "id": "Bkf8XWngTGqg",
        "outputId": "7381a899-bb24-40d1-ef20-891cec00b39e"
      },
      "execution_count": 66,
      "outputs": [
        {
          "output_type": "stream",
          "name": "stdout",
          "text": [
            "O vetor y [1, 2, 5, 6, 5]\n",
            "O vetor x [7, 0.5, 12, 18, 9]\n"
          ]
        }
      ]
    },
    {
      "cell_type": "code",
      "source": [
        "# Covariância e correlação Linear de Pearson\n",
        "\n",
        "covariancia = np.cov(y, x)\n",
        "corr = np.corrcoef(y, x)\n",
        "\n",
        "print('A covariância entre as variáveis y e x foi de:', covariancia)\n",
        "print('A correlação entre as variáveis y e x foi de:', corr)"
      ],
      "metadata": {
        "colab": {
          "base_uri": "https://localhost:8080/"
        },
        "id": "PlGwnMiIT-L8",
        "outputId": "091904ef-d53f-49a6-e1ce-c688f1bdd5f1"
      },
      "execution_count": 74,
      "outputs": [
        {
          "output_type": "stream",
          "name": "stdout",
          "text": [
            "A covariância entre as variáveis y e x foi de: [[ 4.7   11.075]\n",
            " [11.075 41.45 ]]\n",
            "A correlação entre as variáveis y e x foi de: [[1.        0.7934737]\n",
            " [0.7934737 1.       ]]\n"
          ]
        }
      ]
    }
  ]
}